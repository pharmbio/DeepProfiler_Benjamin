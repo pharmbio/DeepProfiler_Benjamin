{
 "cells": [
  {
   "cell_type": "code",
   "execution_count": 1,
   "id": "7e4502f7-b1c5-494e-b1ba-7399f2f6db86",
   "metadata": {
    "execution": {
     "iopub.execute_input": "2023-08-15T14:01:53.516601Z",
     "iopub.status.busy": "2023-08-15T14:01:53.515970Z",
     "iopub.status.idle": "2023-08-15T14:01:59.411532Z",
     "shell.execute_reply": "2023-08-15T14:01:59.410505Z"
    }
   },
   "outputs": [],
   "source": [
    "import numpy as np\n",
    "import time, os, sys\n",
    "from urllib.parse import urlparse\n",
    "import matplotlib.pyplot as plt\n",
    "import matplotlib as mpl\n",
    "%matplotlib inline\n",
    "mpl.rcParams['figure.dpi'] = 300\n",
    "from cellpose import utils, io, transforms\n",
    "import skimage\n",
    "import cv2\n",
    "from skimage.measure import label, regionprops\n",
    "import re\n",
    "import tifffile as tiff\n",
    "from tqdm import tqdm\n",
    "import scipy\n",
    "import pandas as pd"
   ]
  },
  {
   "cell_type": "code",
   "execution_count": 2,
   "id": "e8df4528-08b8-471e-add5-0c8ac6d9827a",
   "metadata": {
    "execution": {
     "iopub.execute_input": "2023-08-15T14:01:59.417309Z",
     "iopub.status.busy": "2023-08-15T14:01:59.416865Z",
     "iopub.status.idle": "2023-08-15T14:01:59.434328Z",
     "shell.execute_reply": "2023-08-15T14:01:59.433630Z"
    }
   },
   "outputs": [],
   "source": [
    "def get_images_from_channels(image_file, image_paths_in):\n",
    "    channel_files = [\"w1\", \"w2\", \"w3\", \"w4\", \"w5\"]\n",
    "    images = {}\n",
    "    for i in channel_files:\n",
    "        file_name = image_file.split(\"w\")[0]\n",
    "        path_temp = os.path.join(folder_path, file_name) + i\n",
    "        path_string = next((string for string in image_paths_in if path_temp in string), None)\n",
    "        images[i] = skimage.io.imread(path_string)\n",
    "    return images\n",
    "\n",
    "def generate_single_cell_crops(mask, image_path):\n",
    "    unique_ids = np.unique(mask.flatten())\n",
    "    images = get_images_from_channels(image_path, image_paths_in = image_paths)\n",
    "    for cell_id in unique_ids:\n",
    "            if cell_id == 0:\n",
    "                continue  # Skip the background\n",
    "            single_cell_mask = np.where(mask == cell_id, 1, 0)  # Create a binary mask for the current cell\n",
    "            single_cell_mask = single_cell_mask.copy().astype(np.uint8)\n",
    "            contours, _ = cv2.findContours(single_cell_mask, cv2.RETR_EXTERNAL, cv2.CHAIN_APPROX_SIMPLE)\n",
    "            crop_mask = np.zeros_like(single_cell_mask).astype(np.uint8)\n",
    "            cv2.drawContours(crop_mask, contours, -1, 255, thickness=cv2.FILLED)\n",
    "\n",
    "            w1 = images[\"w1\"]\n",
    "            w2 = images[\"w2\"]\n",
    "            w3 = images[\"w3\"]\n",
    "            w4 = images[\"w4\"]\n",
    "            w5 = images[\"w5\"]\n",
    "            w1_mask = np.copy(w1)\n",
    "            w2_mask = np.copy(w2)\n",
    "            w3_mask = np.copy(w3)\n",
    "            w4_mask = np.copy(w4)\n",
    "            w5_mask = np.copy(w5)\n",
    "\n",
    "            # Set the rest of the image to 0 where the mask is 0\n",
    "            w1_mask[crop_mask == 0] = 0\n",
    "            w2_mask[crop_mask == 0] = 0\n",
    "            w3_mask[crop_mask == 0] = 0\n",
    "            w4_mask[crop_mask == 0] = 0\n",
    "            w5_mask[crop_mask == 0] = 0\n",
    "\n",
    "            indices = np.where(single_cell_mask != 0)\n",
    "            if all(len(idx) == 0 for idx in indices):\n",
    "                print(cell_id)\n",
    "                continue\n",
    "            y_min, x_min = np.min(indices, axis=1)\n",
    "            y_max, x_max = np.max(indices, axis=1)\n",
    "\n",
    "            # Calculate the center of the bounding box\n",
    "            # center_z = (z_min + z_max) // 2\n",
    "            center_y = (y_min + y_max) // 2\n",
    "            center_x = (x_min + x_max) // 2\n",
    "\n",
    "            # Calculate the coordinates of the top-left corner of the cropped box\n",
    "            # box_zmin = center_z - box_size // 2\n",
    "            box_ymin = center_y - box_size // 2\n",
    "            box_xmin = center_x - box_size // 2\n",
    "            if box_ymin < 0:\n",
    "                box_ymin = 0\n",
    "            if box_xmin < 0:\n",
    "                box_xmin = 0\n",
    "\n",
    "            # Crop the image and mask\n",
    "            w1_crop = w1_mask[box_ymin : box_ymin + box_size, box_xmin : box_xmin + box_size]\n",
    "            w2_crop = w2_mask[box_ymin : box_ymin + box_size, box_xmin : box_xmin + box_size]\n",
    "            w3_crop = w3_mask[box_ymin : box_ymin + box_size, box_xmin : box_xmin + box_size]\n",
    "            w4_crop = w4_mask[box_ymin : box_ymin + box_size, box_xmin : box_xmin + box_size]\n",
    "            w5_crop = w5_mask[box_ymin : box_ymin + box_size, box_xmin : box_xmin + box_size]\n",
    "            cropped_mask = single_cell_mask[box_ymin : box_ymin + box_size, box_xmin : box_xmin + box_size]\n",
    "            composite_crop = np.stack([w1_crop, w2_crop, w3_crop, w4_crop, w5_crop], axis=-1)\n",
    "            composite_crop_out = composite_crop.astype(np.uint8)\n",
    "            \n",
    "            if w1_crop.shape[0] < 100 or w1_crop.shape[1] < 100:\n",
    "                #print(f\"Skipping cell {cell_id} as it is out of frame.\")\n",
    "                continue\n",
    "\n",
    "            #fig, axs = plt.subplots(1, 3, figsize=(12, 4))\n",
    "            #axs[0].imshow(w2)\n",
    "            #axs[0].set_title('Image 1')\n",
    "            #axs[1].imshow(crop_mask)\n",
    "            #axs[1].set_title('Image 2')\n",
    "            #axs[2].imshow(w2_crop)\n",
    "            #axs[2].set_title('Image 3')\n",
    "            #plt.tight_layout()\n",
    "            #plt.show()\n",
    "\n",
    "            OutputDir = f'/share/data/analyses/benjamin/Single_cell_project/scDINO_RH30/RMS_masks/crops_new/'\n",
    "            if not os.path.exists(OutputDir): \n",
    "                os.makedirs(OutputDir)\n",
    "                \n",
    "            file_string = image_path.split(\"/\")[-1]\n",
    "            first_part = file_string.split(\"_w\")[0]\n",
    "\n",
    "            #np.save(f'{OutputDir}/mask-tp-{tpstr}.npy', single_cell_mask)\n",
    "            cv2.imwrite(f'{OutputDir}w1_crops/{first_part}_w1_{cell_id}.tif', w1_crop)\n",
    "            cv2.imwrite(f'{OutputDir}w2_crops/{first_part}_w2_{cell_id}.tif', w2_crop)\n",
    "            cv2.imwrite(f'{OutputDir}w3_crops/{first_part}_w3_{cell_id}.tif', w3_crop)\n",
    "            cv2.imwrite(f'{OutputDir}w4_crops/{first_part}_w4_{cell_id}.tif', w4_crop)\n",
    "            cv2.imwrite(f'{OutputDir}w5_crops/{first_part}_w5_{cell_id}.tif', w5_crop)\n",
    "            tiff.imsave(f'{OutputDir}composite_crops/{first_part}_composite_{cell_id}.tif', composite_crop_out)\n",
    "            #print(\"Saving cell\", cell_id, \"complete\")"
   ]
  },
  {
   "cell_type": "code",
   "execution_count": 3,
   "id": "5cd9cbf7-04ce-4707-a188-786626b13deb",
   "metadata": {
    "execution": {
     "iopub.execute_input": "2023-08-15T14:01:59.439497Z",
     "iopub.status.busy": "2023-08-15T14:01:59.438990Z",
     "iopub.status.idle": "2023-08-15T14:01:59.465530Z",
     "shell.execute_reply": "2023-08-15T14:01:59.464664Z"
    }
   },
   "outputs": [
    {
     "name": "stdout",
     "output_type": "stream",
     "text": [
      "5760 images\n"
     ]
    }
   ],
   "source": [
    "files = []\n",
    "import glob, os\n",
    "#os.chdir('/home/jovyan/share/mikro/RMS/RMS-e02-v01-P014561-RH30-48h/2021-10-29/826/')\n",
    "folder_path = '/home/jovyan/share/mikro/RMS/RMS-e02-v01-P014561-RH30-48h/2021-10-29/826/'\n",
    "files = os.listdir(folder_path)\n",
    "# Filter the files that do not contain \"thumb\" in their filenames\n",
    "filtered_files = [file for file in files if \"thumb\" not in file]\n",
    "#for file in glob.glob(\"*w6.png\"):\n",
    " #   if not file in files:\n",
    "  #      files.append(file)\n",
    "files_sorted = sorted(filtered_files)\n",
    "image_paths = [os.path.join(folder_path, files_sort) for files_sort in files_sorted]\n",
    "\n",
    "print(len(image_paths),str(\"images\"))"
   ]
  },
  {
   "cell_type": "code",
   "execution_count": 4,
   "id": "643f0778-3b60-4c8c-92b7-7061d8ef1ed2",
   "metadata": {
    "execution": {
     "iopub.execute_input": "2023-08-15T14:01:59.469558Z",
     "iopub.status.busy": "2023-08-15T14:01:59.469301Z",
     "iopub.status.idle": "2023-08-15T14:02:00.043643Z",
     "shell.execute_reply": "2023-08-15T14:02:00.042944Z"
    }
   },
   "outputs": [
    {
     "ename": "NameError",
     "evalue": "name 'img' is not defined",
     "output_type": "error",
     "traceback": [
      "\u001b[0;31m---------------------------------------------------------------------------\u001b[0m",
      "\u001b[0;31mNameError\u001b[0m                                 Traceback (most recent call last)",
      "Input \u001b[0;32mIn [4]\u001b[0m, in \u001b[0;36m<cell line: 6>\u001b[0;34m()\u001b[0m\n\u001b[1;32m      4\u001b[0m box_size \u001b[38;5;241m=\u001b[39m \u001b[38;5;241m100\u001b[39m\n\u001b[1;32m      5\u001b[0m \u001b[38;5;66;03m# Load your original image\u001b[39;00m\n\u001b[0;32m----> 6\u001b[0m original_image \u001b[38;5;241m=\u001b[39m \u001b[43mimg\u001b[49m\n",
      "\u001b[0;31mNameError\u001b[0m: name 'img' is not defined"
     ]
    }
   ],
   "source": [
    "# Set the desired dimensions for cropping\n",
    "crop_width = 100\n",
    "crop_height = 100\n",
    "box_size = 100\n",
    "# Load your original image\n",
    "original_image = img "
   ]
  },
  {
   "cell_type": "code",
   "execution_count": 5,
   "id": "b21ea7d4-27d7-4761-99da-58e7ca5365c1",
   "metadata": {
    "execution": {
     "iopub.execute_input": "2023-08-15T14:02:00.048108Z",
     "iopub.status.busy": "2023-08-15T14:02:00.047853Z",
     "iopub.status.idle": "2023-08-15T14:02:00.064051Z",
     "shell.execute_reply": "2023-08-15T14:02:00.063330Z"
    }
   },
   "outputs": [
    {
     "ename": "NameError",
     "evalue": "name 'mask_dict' is not defined",
     "output_type": "error",
     "traceback": [
      "\u001b[0;31m---------------------------------------------------------------------------\u001b[0m",
      "\u001b[0;31mNameError\u001b[0m                                 Traceback (most recent call last)",
      "Input \u001b[0;32mIn [5]\u001b[0m, in \u001b[0;36m<cell line: 1>\u001b[0;34m()\u001b[0m\n\u001b[0;32m----> 1\u001b[0m \u001b[38;5;28;01mfor\u001b[39;00m key,value \u001b[38;5;129;01min\u001b[39;00m tqdm(\u001b[43mmask_dict\u001b[49m\u001b[38;5;241m.\u001b[39mitems(), total \u001b[38;5;241m=\u001b[39m \u001b[38;5;28mlen\u001b[39m(mask_dict\u001b[38;5;241m.\u001b[39mitems()), desc\u001b[38;5;241m=\u001b[39m\u001b[38;5;124m\"\u001b[39m\u001b[38;5;124mProcessing\u001b[39m\u001b[38;5;124m\"\u001b[39m):\n\u001b[1;32m      2\u001b[0m     generate_single_cell_crops(value, key)\n",
      "\u001b[0;31mNameError\u001b[0m: name 'mask_dict' is not defined"
     ]
    }
   ],
   "source": [
    "for key,value in tqdm(mask_dict.items(), total = len(mask_dict.items()), desc=\"Processing\"):\n",
    "    generate_single_cell_crops(value, key)"
   ]
  }
 ],
 "metadata": {
  "kernelspec": {
   "display_name": "Python 3",
   "language": "python",
   "name": "python3"
  },
  "language_info": {
   "codemirror_mode": {
    "name": "ipython",
    "version": 3
   },
   "file_extension": ".py",
   "mimetype": "text/x-python",
   "name": "python",
   "nbconvert_exporter": "python",
   "pygments_lexer": "ipython3",
   "version": "3.8.10"
  }
 },
 "nbformat": 4,
 "nbformat_minor": 5
}
